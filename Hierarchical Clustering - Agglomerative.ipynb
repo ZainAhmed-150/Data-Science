{
 "cells": [
  {
   "cell_type": "markdown",
   "metadata": {},
   "source": [
    "# Problem Statement\n",
    "\n",
    "HELP International is an international humanitarian NGO that is committed to fighting poverty and providing the people of backward countries with basic amenities and relief during the time of disasters and natural calamities. It runs a lot of operational projects from time to time along with advocacy drives to raise awareness as well as for funding purposes.\n",
    "\n",
    "After the recent funding programmes, they have been able to raise around $ 10 million. Now the CEO of the NGO needs to decide how to use this money strategically and effectively. The significant issues that come while making this decision are mostly related to choosing the countries that are in the direst need of aid."
   ]
  },
  {
   "cell_type": "markdown",
   "metadata": {},
   "source": [
    "# Business Goal\n",
    "The job is to categorise the countries using some socio-economic and health factors that determine the overall development of the country. Then we need to suggest the countries which the CEO needs to focus on the most."
   ]
  },
  {
   "cell_type": "code",
   "execution_count": 2,
   "metadata": {},
   "outputs": [],
   "source": [
    "# Installing Packages"
   ]
  },
  {
   "cell_type": "code",
   "execution_count": 31,
   "metadata": {},
   "outputs": [],
   "source": [
    "import pandas as pd \n",
    "import numpy as np \n",
    "import matplotlib.pyplot as plt \n",
    "%matplotlib inline\n",
    "import seaborn as sns\n",
    "from sklearn.cluster import AgglomerativeClustering \n",
    "from sklearn.preprocessing import StandardScaler, normalize\n",
    "from sklearn.metrics import silhouette_score \n",
    "import scipy.cluster.hierarchy as shc"
   ]
  },
  {
   "cell_type": "code",
   "execution_count": 4,
   "metadata": {},
   "outputs": [],
   "source": [
    "count_new = pd.read_csv(\"Country-data.csv\")"
   ]
  },
  {
   "cell_type": "code",
   "execution_count": 5,
   "metadata": {},
   "outputs": [
    {
     "data": {
      "text/html": [
       "<div>\n",
       "<style scoped>\n",
       "    .dataframe tbody tr th:only-of-type {\n",
       "        vertical-align: middle;\n",
       "    }\n",
       "\n",
       "    .dataframe tbody tr th {\n",
       "        vertical-align: top;\n",
       "    }\n",
       "\n",
       "    .dataframe thead th {\n",
       "        text-align: right;\n",
       "    }\n",
       "</style>\n",
       "<table border=\"1\" class=\"dataframe\">\n",
       "  <thead>\n",
       "    <tr style=\"text-align: right;\">\n",
       "      <th></th>\n",
       "      <th>country</th>\n",
       "      <th>child_mort</th>\n",
       "      <th>exports</th>\n",
       "      <th>health</th>\n",
       "      <th>imports</th>\n",
       "      <th>income</th>\n",
       "      <th>inflation</th>\n",
       "      <th>life_expec</th>\n",
       "      <th>total_fer</th>\n",
       "      <th>gdpp</th>\n",
       "    </tr>\n",
       "  </thead>\n",
       "  <tbody>\n",
       "    <tr>\n",
       "      <td>0</td>\n",
       "      <td>Afghanistan</td>\n",
       "      <td>90.2</td>\n",
       "      <td>10.0</td>\n",
       "      <td>7.58</td>\n",
       "      <td>44.9</td>\n",
       "      <td>1610</td>\n",
       "      <td>9.44</td>\n",
       "      <td>56.2</td>\n",
       "      <td>5.82</td>\n",
       "      <td>553</td>\n",
       "    </tr>\n",
       "    <tr>\n",
       "      <td>1</td>\n",
       "      <td>Albania</td>\n",
       "      <td>16.6</td>\n",
       "      <td>28.0</td>\n",
       "      <td>6.55</td>\n",
       "      <td>48.6</td>\n",
       "      <td>9930</td>\n",
       "      <td>4.49</td>\n",
       "      <td>76.3</td>\n",
       "      <td>1.65</td>\n",
       "      <td>4090</td>\n",
       "    </tr>\n",
       "    <tr>\n",
       "      <td>2</td>\n",
       "      <td>Algeria</td>\n",
       "      <td>27.3</td>\n",
       "      <td>38.4</td>\n",
       "      <td>4.17</td>\n",
       "      <td>31.4</td>\n",
       "      <td>12900</td>\n",
       "      <td>16.10</td>\n",
       "      <td>76.5</td>\n",
       "      <td>2.89</td>\n",
       "      <td>4460</td>\n",
       "    </tr>\n",
       "    <tr>\n",
       "      <td>3</td>\n",
       "      <td>Angola</td>\n",
       "      <td>119.0</td>\n",
       "      <td>62.3</td>\n",
       "      <td>2.85</td>\n",
       "      <td>42.9</td>\n",
       "      <td>5900</td>\n",
       "      <td>22.40</td>\n",
       "      <td>60.1</td>\n",
       "      <td>6.16</td>\n",
       "      <td>3530</td>\n",
       "    </tr>\n",
       "    <tr>\n",
       "      <td>4</td>\n",
       "      <td>Antigua and Barbuda</td>\n",
       "      <td>10.3</td>\n",
       "      <td>45.5</td>\n",
       "      <td>6.03</td>\n",
       "      <td>58.9</td>\n",
       "      <td>19100</td>\n",
       "      <td>1.44</td>\n",
       "      <td>76.8</td>\n",
       "      <td>2.13</td>\n",
       "      <td>12200</td>\n",
       "    </tr>\n",
       "  </tbody>\n",
       "</table>\n",
       "</div>"
      ],
      "text/plain": [
       "               country  child_mort  exports  health  imports  income  \\\n",
       "0          Afghanistan        90.2     10.0    7.58     44.9    1610   \n",
       "1              Albania        16.6     28.0    6.55     48.6    9930   \n",
       "2              Algeria        27.3     38.4    4.17     31.4   12900   \n",
       "3               Angola       119.0     62.3    2.85     42.9    5900   \n",
       "4  Antigua and Barbuda        10.3     45.5    6.03     58.9   19100   \n",
       "\n",
       "   inflation  life_expec  total_fer   gdpp  \n",
       "0       9.44        56.2       5.82    553  \n",
       "1       4.49        76.3       1.65   4090  \n",
       "2      16.10        76.5       2.89   4460  \n",
       "3      22.40        60.1       6.16   3530  \n",
       "4       1.44        76.8       2.13  12200  "
      ]
     },
     "execution_count": 5,
     "metadata": {},
     "output_type": "execute_result"
    }
   ],
   "source": [
    "count_new.head()"
   ]
  },
  {
   "cell_type": "code",
   "execution_count": 7,
   "metadata": {},
   "outputs": [
    {
     "data": {
      "text/plain": [
       "array([[<matplotlib.axes._subplots.AxesSubplot object at 0x000001DD48780E08>,\n",
       "        <matplotlib.axes._subplots.AxesSubplot object at 0x000001DD4875A848>,\n",
       "        <matplotlib.axes._subplots.AxesSubplot object at 0x000001DD48928308>],\n",
       "       [<matplotlib.axes._subplots.AxesSubplot object at 0x000001DD48B9F588>,\n",
       "        <matplotlib.axes._subplots.AxesSubplot object at 0x000001DD48CA5508>,\n",
       "        <matplotlib.axes._subplots.AxesSubplot object at 0x000001DD48D3E588>],\n",
       "       [<matplotlib.axes._subplots.AxesSubplot object at 0x000001DD48C4FF08>,\n",
       "        <matplotlib.axes._subplots.AxesSubplot object at 0x000001DD48808C08>,\n",
       "        <matplotlib.axes._subplots.AxesSubplot object at 0x000001DD488100C8>]],\n",
       "      dtype=object)"
      ]
     },
     "execution_count": 7,
     "metadata": {},
     "output_type": "execute_result"
    },
    {
     "data": {
      "image/png": "[encoded data removed]",
      "text/plain": [
       "<Figure size 432x288 with 9 Axes>"
      ]
     },
     "metadata": {
      "needs_background": "light"
     },
     "output_type": "display_data"
    }
   ],
   "source": [
    "count_new.hist()"
   ]
  },
  {
   "cell_type": "code",
   "execution_count": 8,
   "metadata": {},
   "outputs": [
    {
     "data": {
      "text/html": [
       "<div>\n",
       "<style scoped>\n",
       "    .dataframe tbody tr th:only-of-type {\n",
       "        vertical-align: middle;\n",
       "    }\n",
       "\n",
       "    .dataframe tbody tr th {\n",
       "        vertical-align: top;\n",
       "    }\n",
       "\n",
       "    .dataframe thead th {\n",
       "        text-align: right;\n",
       "    }\n",
       "</style>\n",
       "<table border=\"1\" class=\"dataframe\">\n",
       "  <thead>\n",
       "    <tr style=\"text-align: right;\">\n",
       "      <th></th>\n",
       "      <th>child_mort</th>\n",
       "      <th>exports</th>\n",
       "      <th>health</th>\n",
       "      <th>imports</th>\n",
       "      <th>income</th>\n",
       "      <th>inflation</th>\n",
       "      <th>life_expec</th>\n",
       "      <th>total_fer</th>\n",
       "      <th>gdpp</th>\n",
       "    </tr>\n",
       "  </thead>\n",
       "  <tbody>\n",
       "    <tr>\n",
       "      <td>count</td>\n",
       "      <td>167.000000</td>\n",
       "      <td>167.000000</td>\n",
       "      <td>167.000000</td>\n",
       "      <td>167.000000</td>\n",
       "      <td>167.000000</td>\n",
       "      <td>167.000000</td>\n",
       "      <td>167.000000</td>\n",
       "      <td>167.000000</td>\n",
       "      <td>167.000000</td>\n",
       "    </tr>\n",
       "    <tr>\n",
       "      <td>mean</td>\n",
       "      <td>38.270060</td>\n",
       "      <td>41.108976</td>\n",
       "      <td>6.815689</td>\n",
       "      <td>46.890215</td>\n",
       "      <td>17144.688623</td>\n",
       "      <td>7.781832</td>\n",
       "      <td>70.555689</td>\n",
       "      <td>2.947964</td>\n",
       "      <td>12964.155689</td>\n",
       "    </tr>\n",
       "    <tr>\n",
       "      <td>std</td>\n",
       "      <td>40.328931</td>\n",
       "      <td>27.412010</td>\n",
       "      <td>2.746837</td>\n",
       "      <td>24.209589</td>\n",
       "      <td>19278.067698</td>\n",
       "      <td>10.570704</td>\n",
       "      <td>8.893172</td>\n",
       "      <td>1.513848</td>\n",
       "      <td>18328.704809</td>\n",
       "    </tr>\n",
       "    <tr>\n",
       "      <td>min</td>\n",
       "      <td>2.600000</td>\n",
       "      <td>0.109000</td>\n",
       "      <td>1.810000</td>\n",
       "      <td>0.065900</td>\n",
       "      <td>609.000000</td>\n",
       "      <td>-4.210000</td>\n",
       "      <td>32.100000</td>\n",
       "      <td>1.150000</td>\n",
       "      <td>231.000000</td>\n",
       "    </tr>\n",
       "    <tr>\n",
       "      <td>25%</td>\n",
       "      <td>8.250000</td>\n",
       "      <td>23.800000</td>\n",
       "      <td>4.920000</td>\n",
       "      <td>30.200000</td>\n",
       "      <td>3355.000000</td>\n",
       "      <td>1.810000</td>\n",
       "      <td>65.300000</td>\n",
       "      <td>1.795000</td>\n",
       "      <td>1330.000000</td>\n",
       "    </tr>\n",
       "    <tr>\n",
       "      <td>50%</td>\n",
       "      <td>19.300000</td>\n",
       "      <td>35.000000</td>\n",
       "      <td>6.320000</td>\n",
       "      <td>43.300000</td>\n",
       "      <td>9960.000000</td>\n",
       "      <td>5.390000</td>\n",
       "      <td>73.100000</td>\n",
       "      <td>2.410000</td>\n",
       "      <td>4660.000000</td>\n",
       "    </tr>\n",
       "    <tr>\n",
       "      <td>75%</td>\n",
       "      <td>62.100000</td>\n",
       "      <td>51.350000</td>\n",
       "      <td>8.600000</td>\n",
       "      <td>58.750000</td>\n",
       "      <td>22800.000000</td>\n",
       "      <td>10.750000</td>\n",
       "      <td>76.800000</td>\n",
       "      <td>3.880000</td>\n",
       "      <td>14050.000000</td>\n",
       "    </tr>\n",
       "    <tr>\n",
       "      <td>max</td>\n",
       "      <td>208.000000</td>\n",
       "      <td>200.000000</td>\n",
       "      <td>17.900000</td>\n",
       "      <td>174.000000</td>\n",
       "      <td>125000.000000</td>\n",
       "      <td>104.000000</td>\n",
       "      <td>82.800000</td>\n",
       "      <td>7.490000</td>\n",
       "      <td>105000.000000</td>\n",
       "    </tr>\n",
       "  </tbody>\n",
       "</table>\n",
       "</div>"
      ],
      "text/plain": [
       "       child_mort     exports      health     imports         income  \\\n",
       "count  167.000000  167.000000  167.000000  167.000000     167.000000   \n",
       "mean    38.270060   41.108976    6.815689   46.890215   17144.688623   \n",
       "std     40.328931   27.412010    2.746837   24.209589   19278.067698   \n",
       "min      2.600000    0.109000    1.810000    0.065900     609.000000   \n",
       "25%      8.250000   23.800000    4.920000   30.200000    3355.000000   \n",
       "50%     19.300000   35.000000    6.320000   43.300000    9960.000000   \n",
       "75%     62.100000   51.350000    8.600000   58.750000   22800.000000   \n",
       "max    208.000000  200.000000   17.900000  174.000000  125000.000000   \n",
       "\n",
       "        inflation  life_expec   total_fer           gdpp  \n",
       "count  167.000000  167.000000  167.000000     167.000000  \n",
       "mean     7.781832   70.555689    2.947964   12964.155689  \n",
       "std     10.570704    8.893172    1.513848   18328.704809  \n",
       "min     -4.210000   32.100000    1.150000     231.000000  \n",
       "25%      1.810000   65.300000    1.795000    1330.000000  \n",
       "50%      5.390000   73.100000    2.410000    4660.000000  \n",
       "75%     10.750000   76.800000    3.880000   14050.000000  \n",
       "max    104.000000   82.800000    7.490000  105000.000000  "
      ]
     },
     "execution_count": 8,
     "metadata": {},
     "output_type": "execute_result"
    }
   ],
   "source": [
    "count_new.describe()"
   ]
  },
  {
   "cell_type": "code",
   "execution_count": 15,
   "metadata": {},
   "outputs": [],
   "source": [
    "count_new.drop(\"country\", axis=1, inplace=True)"
   ]
  },
  {
   "cell_type": "code",
   "execution_count": 16,
   "metadata": {},
   "outputs": [],
   "source": [
    "scaler = StandardScaler() \n",
    "count_scaled = scaler.fit_transform(count_new)\n",
    "count_normalized = normalize(count_scaled)"
   ]
  },
  {
   "cell_type": "code",
   "execution_count": 24,
   "metadata": {},
   "outputs": [
    {
     "data": {
      "text/html": [
       "<div>\n",
       "<style scoped>\n",
       "    .dataframe tbody tr th:only-of-type {\n",
       "        vertical-align: middle;\n",
       "    }\n",
       "\n",
       "    .dataframe tbody tr th {\n",
       "        vertical-align: top;\n",
       "    }\n",
       "\n",
       "    .dataframe thead th {\n",
       "        text-align: right;\n",
       "    }\n",
       "</style>\n",
       "<table border=\"1\" class=\"dataframe\">\n",
       "  <thead>\n",
       "    <tr style=\"text-align: right;\">\n",
       "      <th></th>\n",
       "      <th>0</th>\n",
       "      <th>1</th>\n",
       "      <th>2</th>\n",
       "      <th>3</th>\n",
       "      <th>4</th>\n",
       "      <th>5</th>\n",
       "      <th>6</th>\n",
       "      <th>7</th>\n",
       "      <th>8</th>\n",
       "    </tr>\n",
       "  </thead>\n",
       "  <tbody>\n",
       "    <tr>\n",
       "      <td>0</td>\n",
       "      <td>0.399908</td>\n",
       "      <td>-0.352455</td>\n",
       "      <td>0.086416</td>\n",
       "      <td>-0.025531</td>\n",
       "      <td>-0.250264</td>\n",
       "      <td>0.048717</td>\n",
       "      <td>-0.501333</td>\n",
       "      <td>0.589205</td>\n",
       "      <td>-0.210300</td>\n",
       "    </tr>\n",
       "    <tr>\n",
       "      <td>1</td>\n",
       "      <td>-0.365985</td>\n",
       "      <td>-0.325723</td>\n",
       "      <td>-0.065881</td>\n",
       "      <td>0.048103</td>\n",
       "      <td>-0.254902</td>\n",
       "      <td>-0.212106</td>\n",
       "      <td>0.439948</td>\n",
       "      <td>-0.583983</td>\n",
       "      <td>-0.329773</td>\n",
       "    </tr>\n",
       "    <tr>\n",
       "      <td>2</td>\n",
       "      <td>-0.163969</td>\n",
       "      <td>-0.059571</td>\n",
       "      <td>-0.580597</td>\n",
       "      <td>-0.385691</td>\n",
       "      <td>-0.132725</td>\n",
       "      <td>0.474344</td>\n",
       "      <td>0.402916</td>\n",
       "      <td>-0.023081</td>\n",
       "      <td>-0.279685</td>\n",
       "    </tr>\n",
       "    <tr>\n",
       "      <td>3</td>\n",
       "      <td>0.514838</td>\n",
       "      <td>0.198822</td>\n",
       "      <td>-0.371311</td>\n",
       "      <td>-0.042390</td>\n",
       "      <td>-0.150016</td>\n",
       "      <td>0.355665</td>\n",
       "      <td>-0.302377</td>\n",
       "      <td>0.545696</td>\n",
       "      <td>-0.132380</td>\n",
       "    </tr>\n",
       "    <tr>\n",
       "      <td>4</td>\n",
       "      <td>-0.491459</td>\n",
       "      <td>0.113510</td>\n",
       "      <td>-0.202688</td>\n",
       "      <td>0.351527</td>\n",
       "      <td>0.071873</td>\n",
       "      <td>-0.425130</td>\n",
       "      <td>0.497552</td>\n",
       "      <td>-0.382880</td>\n",
       "      <td>-0.029543</td>\n",
       "    </tr>\n",
       "  </tbody>\n",
       "</table>\n",
       "</div>"
      ],
      "text/plain": [
       "          0         1         2         3         4         5         6  \\\n",
       "0  0.399908 -0.352455  0.086416 -0.025531 -0.250264  0.048717 -0.501333   \n",
       "1 -0.365985 -0.325723 -0.065881  0.048103 -0.254902 -0.212106  0.439948   \n",
       "2 -0.163969 -0.059571 -0.580597 -0.385691 -0.132725  0.474344  0.402916   \n",
       "3  0.514838  0.198822 -0.371311 -0.042390 -0.150016  0.355665 -0.302377   \n",
       "4 -0.491459  0.113510 -0.202688  0.351527  0.071873 -0.425130  0.497552   \n",
       "\n",
       "          7         8  \n",
       "0  0.589205 -0.210300  \n",
       "1 -0.583983 -0.329773  \n",
       "2 -0.023081 -0.279685  \n",
       "3  0.545696 -0.132380  \n",
       "4 -0.382880 -0.029543  "
      ]
     },
     "execution_count": 24,
     "metadata": {},
     "output_type": "execute_result"
    }
   ],
   "source": [
    "count_normalized = pd.DataFrame(count_normalized)\n",
    "count_normalized.head()"
   ]
  },
  {
   "cell_type": "code",
   "execution_count": 25,
   "metadata": {},
   "outputs": [
    {
     "data": {
      "text/html": [
       "<div>\n",
       "<style scoped>\n",
       "    .dataframe tbody tr th:only-of-type {\n",
       "        vertical-align: middle;\n",
       "    }\n",
       "\n",
       "    .dataframe tbody tr th {\n",
       "        vertical-align: top;\n",
       "    }\n",
       "\n",
       "    .dataframe thead th {\n",
       "        text-align: right;\n",
       "    }\n",
       "</style>\n",
       "<table border=\"1\" class=\"dataframe\">\n",
       "  <thead>\n",
       "    <tr style=\"text-align: right;\">\n",
       "      <th></th>\n",
       "      <th>child_mort</th>\n",
       "      <th>exports</th>\n",
       "      <th>health</th>\n",
       "      <th>imports</th>\n",
       "      <th>income</th>\n",
       "      <th>inflation</th>\n",
       "      <th>life_expec</th>\n",
       "      <th>total_fer</th>\n",
       "      <th>gdpp</th>\n",
       "    </tr>\n",
       "  </thead>\n",
       "  <tbody>\n",
       "    <tr>\n",
       "      <td>0</td>\n",
       "      <td>0.399908</td>\n",
       "      <td>-0.352455</td>\n",
       "      <td>0.086416</td>\n",
       "      <td>-0.025531</td>\n",
       "      <td>-0.250264</td>\n",
       "      <td>0.048717</td>\n",
       "      <td>-0.501333</td>\n",
       "      <td>0.589205</td>\n",
       "      <td>-0.210300</td>\n",
       "    </tr>\n",
       "    <tr>\n",
       "      <td>1</td>\n",
       "      <td>-0.365985</td>\n",
       "      <td>-0.325723</td>\n",
       "      <td>-0.065881</td>\n",
       "      <td>0.048103</td>\n",
       "      <td>-0.254902</td>\n",
       "      <td>-0.212106</td>\n",
       "      <td>0.439948</td>\n",
       "      <td>-0.583983</td>\n",
       "      <td>-0.329773</td>\n",
       "    </tr>\n",
       "    <tr>\n",
       "      <td>2</td>\n",
       "      <td>-0.163969</td>\n",
       "      <td>-0.059571</td>\n",
       "      <td>-0.580597</td>\n",
       "      <td>-0.385691</td>\n",
       "      <td>-0.132725</td>\n",
       "      <td>0.474344</td>\n",
       "      <td>0.402916</td>\n",
       "      <td>-0.023081</td>\n",
       "      <td>-0.279685</td>\n",
       "    </tr>\n",
       "    <tr>\n",
       "      <td>3</td>\n",
       "      <td>0.514838</td>\n",
       "      <td>0.198822</td>\n",
       "      <td>-0.371311</td>\n",
       "      <td>-0.042390</td>\n",
       "      <td>-0.150016</td>\n",
       "      <td>0.355665</td>\n",
       "      <td>-0.302377</td>\n",
       "      <td>0.545696</td>\n",
       "      <td>-0.132380</td>\n",
       "    </tr>\n",
       "    <tr>\n",
       "      <td>4</td>\n",
       "      <td>-0.491459</td>\n",
       "      <td>0.113510</td>\n",
       "      <td>-0.202688</td>\n",
       "      <td>0.351527</td>\n",
       "      <td>0.071873</td>\n",
       "      <td>-0.425130</td>\n",
       "      <td>0.497552</td>\n",
       "      <td>-0.382880</td>\n",
       "      <td>-0.029543</td>\n",
       "    </tr>\n",
       "  </tbody>\n",
       "</table>\n",
       "</div>"
      ],
      "text/plain": [
       "   child_mort   exports    health   imports    income  inflation  life_expec  \\\n",
       "0    0.399908 -0.352455  0.086416 -0.025531 -0.250264   0.048717   -0.501333   \n",
       "1   -0.365985 -0.325723 -0.065881  0.048103 -0.254902  -0.212106    0.439948   \n",
       "2   -0.163969 -0.059571 -0.580597 -0.385691 -0.132725   0.474344    0.402916   \n",
       "3    0.514838  0.198822 -0.371311 -0.042390 -0.150016   0.355665   -0.302377   \n",
       "4   -0.491459  0.113510 -0.202688  0.351527  0.071873  -0.425130    0.497552   \n",
       "\n",
       "   total_fer      gdpp  \n",
       "0   0.589205 -0.210300  \n",
       "1  -0.583983 -0.329773  \n",
       "2  -0.023081 -0.279685  \n",
       "3   0.545696 -0.132380  \n",
       "4  -0.382880 -0.029543  "
      ]
     },
     "execution_count": 25,
     "metadata": {},
     "output_type": "execute_result"
    }
   ],
   "source": [
    "count_normalized.columns = count_new.columns\n",
    "count_normalized.head()"
   ]
  },
  {
   "cell_type": "code",
   "execution_count": 26,
   "metadata": {},
   "outputs": [
    {
     "data": {
      "text/plain": [
       "array([[<matplotlib.axes._subplots.AxesSubplot object at 0x000001DD4DD0F048>,\n",
       "        <matplotlib.axes._subplots.AxesSubplot object at 0x000001DD4D15C2C8>,\n",
       "        <matplotlib.axes._subplots.AxesSubplot object at 0x000001DD4EF14808>],\n",
       "       [<matplotlib.axes._subplots.AxesSubplot object at 0x000001DD4D58EEC8>,\n",
       "        <matplotlib.axes._subplots.AxesSubplot object at 0x000001DD4D1A4588>,\n",
       "        <matplotlib.axes._subplots.AxesSubplot object at 0x000001DD4DE40A88>],\n",
       "       [<matplotlib.axes._subplots.AxesSubplot object at 0x000001DD4F22EF88>,\n",
       "        <matplotlib.axes._subplots.AxesSubplot object at 0x000001DD4F1E7808>,\n",
       "        <matplotlib.axes._subplots.AxesSubplot object at 0x000001DD4DCBECC8>]],\n",
       "      dtype=object)"
      ]
     },
     "execution_count": 26,
     "metadata": {},
     "output_type": "execute_result"
    },
    {
     "data": {
      "image/png": "[encoded data removed]",
      "text/plain": [
       "<Figure size 432x288 with 9 Axes>"
      ]
     },
     "metadata": {
      "needs_background": "light"
     },
     "output_type": "display_data"
    }
   ],
   "source": [
    "count_normalized.hist()"
   ]
  },
  {
   "cell_type": "code",
   "execution_count": 27,
   "metadata": {},
   "outputs": [
    {
     "data": {
      "image/png": "[encoded data removed]",
      "text/plain": [
       "<Figure size 720x720 with 1 Axes>"
      ]
     },
     "metadata": {
      "needs_background": "light"
     },
     "output_type": "display_data"
    }
   ],
   "source": [
    "plt.figure(figsize =(10, 10)) \n",
    "plt.title('Visualising the data') \n",
    "Dendrogram = shc.dendrogram((shc.linkage(count_normalized, method ='ward'))) "
   ]
  },
  {
   "cell_type": "code",
   "execution_count": 36,
   "metadata": {},
   "outputs": [],
   "source": [
    "ac2 = AgglomerativeClustering(n_clusters = 2) \n",
    "ac3 = AgglomerativeClustering(n_clusters = 3) \n",
    "ac4 = AgglomerativeClustering(n_clusters = 4) \n",
    "ac5 = AgglomerativeClustering(n_clusters = 5) "
   ]
  },
  {
   "cell_type": "code",
   "execution_count": 37,
   "metadata": {},
   "outputs": [
    {
     "data": {
      "text/plain": [
       "[0.26510378405765317,\n",
       " 0.24897844410638312,\n",
       " 0.24522190155445778,\n",
       " 0.22762697512064445]"
      ]
     },
     "execution_count": 37,
     "metadata": {},
     "output_type": "execute_result"
    }
   ],
   "source": [
    "k = [2, 3, 4, 5]\n",
    "  \n",
    "# Appending the silhouette scores of the different models to the list \n",
    "silhouette_scores = [] \n",
    "\n",
    "silhouette_scores.append(silhouette_score(count_normalized, ac2.fit_predict(count_normalized))) \n",
    "silhouette_scores.append(silhouette_score(count_normalized, ac3.fit_predict(count_normalized)))\n",
    "silhouette_scores.append(silhouette_score(count_normalized, ac4.fit_predict(count_normalized)))\n",
    "silhouette_scores.append(silhouette_score(count_normalized, ac5.fit_predict(count_normalized)))\n",
    "\n",
    "silhouette_scores"
   ]
  },
  {
   "cell_type": "code",
   "execution_count": 38,
   "metadata": {},
   "outputs": [
    {
     "data": {
      "image/png": "[encoded data removed]",
      "text/plain": [
       "<Figure size 432x288 with 1 Axes>"
      ]
     },
     "metadata": {
      "needs_background": "light"
     },
     "output_type": "display_data"
    }
   ],
   "source": [
    "plt.bar(k, silhouette_scores) \n",
    "plt.xlabel('Number of clusters', fontsize = 20) \n",
    "plt.ylabel('S(i)', fontsize = 20) \n",
    "plt.show() "
   ]
  },
  {
   "cell_type": "code",
   "execution_count": 53,
   "metadata": {},
   "outputs": [
    {
     "data": {
      "text/plain": [
       "array([1, 0, 0, 1, 0, 0, 0, 0, 0, 0, 0, 0, 0, 0, 0, 0, 0, 1, 0, 0, 0, 1,\n",
       "       0, 0, 0, 1, 1, 0, 1, 0, 0, 1, 1, 0, 0, 0, 1, 1, 1, 0, 1, 0, 0, 0,\n",
       "       0, 0, 0, 0, 0, 1, 0, 0, 0, 0, 0, 1, 1, 0, 0, 1, 0, 0, 0, 1, 1, 0,\n",
       "       1, 0, 0, 0, 0, 0, 1, 0, 0, 0, 0, 0, 0, 0, 1, 1, 0, 0, 1, 0, 0, 1,\n",
       "       1, 0, 0, 0, 0, 1, 1, 0, 0, 1, 0, 1, 0, 1, 0, 1, 0, 0, 1, 0, 1, 0,\n",
       "       0, 0, 1, 1, 0, 0, 0, 0, 0, 0, 0, 0, 0, 0, 0, 0, 1, 0, 0, 1, 0, 0,\n",
       "       1, 0, 0, 0, 1, 1, 0, 0, 0, 0, 1, 0, 0, 0, 0, 1, 0, 1, 1, 0, 0, 0,\n",
       "       0, 1, 0, 0, 0, 0, 0, 0, 0, 0, 0, 1, 1], dtype=int64)"
      ]
     },
     "execution_count": 53,
     "metadata": {},
     "output_type": "execute_result"
    }
   ],
   "source": [
    "cluster = ac2.fit_predict(count_normalized)\n",
    "cluster"
   ]
  },
  {
   "cell_type": "code",
   "execution_count": 54,
   "metadata": {},
   "outputs": [],
   "source": [
    "count_normalized_array = count_normalized.values"
   ]
  },
  {
   "cell_type": "code",
   "execution_count": 55,
   "metadata": {},
   "outputs": [
    {
     "data": {
      "image/png": "[encoded data removed]",
      "text/plain": [
       "<Figure size 432x288 with 1 Axes>"
      ]
     },
     "metadata": {
      "needs_background": "light"
     },
     "output_type": "display_data"
    }
   ],
   "source": [
    "plt.scatter(count_normalized_array[Cluster==0, 0], count_normalized_array[Cluster==0, 1], s=50, marker='o', color='red')\n",
    "plt.scatter(count_normalized_array[Cluster==1, 0], count_normalized_array[Cluster==1, 1], s=50, marker='o', color='blue')\n",
    "plt.scatter(count_normalized_array[Cluster==2, 0], count_normalized_array[Cluster==2, 1], s=50, marker='o', color='green')\n",
    "plt.scatter(count_normalized_array[Cluster==3, 0], count_normalized_array[Cluster==3, 1], s=50, marker='o', color='purple')\n",
    "plt.scatter(count_normalized_array[Cluster==4, 0], count_normalized_array[Cluster==4, 1], s=50, marker='o', color='orange')\n",
    "plt.show()"
   ]
  },
  {
   "cell_type": "code",
   "execution_count": 56,
   "metadata": {},
   "outputs": [],
   "source": [
    "count_new[\"Cluster\"] = cluster"
   ]
  },
  {
   "cell_type": "code",
   "execution_count": 60,
   "metadata": {},
   "outputs": [
    {
     "data": {
      "text/plain": [
       "Index(['child_mort', 'exports', 'health', 'imports', 'income', 'inflation',\n",
       "       'life_expec', 'total_fer', 'gdpp', 'Cluster'],\n",
       "      dtype='object')"
      ]
     },
     "execution_count": 60,
     "metadata": {},
     "output_type": "execute_result"
    }
   ],
   "source": [
    "count_new.columns"
   ]
  },
  {
   "cell_type": "code",
   "execution_count": 61,
   "metadata": {},
   "outputs": [
    {
     "data": {
      "text/html": [
       "<div>\n",
       "<style scoped>\n",
       "    .dataframe tbody tr th:only-of-type {\n",
       "        vertical-align: middle;\n",
       "    }\n",
       "\n",
       "    .dataframe tbody tr th {\n",
       "        vertical-align: top;\n",
       "    }\n",
       "\n",
       "    .dataframe thead th {\n",
       "        text-align: right;\n",
       "    }\n",
       "</style>\n",
       "<table border=\"1\" class=\"dataframe\">\n",
       "  <thead>\n",
       "    <tr style=\"text-align: right;\">\n",
       "      <th></th>\n",
       "      <th>Cluster</th>\n",
       "      <th>child_mort</th>\n",
       "      <th>exports</th>\n",
       "      <th>health</th>\n",
       "      <th>imports</th>\n",
       "      <th>income</th>\n",
       "      <th>inflation</th>\n",
       "      <th>life_expec</th>\n",
       "      <th>total_fer</th>\n",
       "      <th>gdpp</th>\n",
       "    </tr>\n",
       "  </thead>\n",
       "  <tbody>\n",
       "    <tr>\n",
       "      <td>0</td>\n",
       "      <td>0</td>\n",
       "      <td>17.436975</td>\n",
       "      <td>45.326714</td>\n",
       "      <td>6.845630</td>\n",
       "      <td>47.607276</td>\n",
       "      <td>22443.193277</td>\n",
       "      <td>5.943958</td>\n",
       "      <td>75.081513</td>\n",
       "      <td>2.143277</td>\n",
       "      <td>17389.781513</td>\n",
       "    </tr>\n",
       "    <tr>\n",
       "      <td>1</td>\n",
       "      <td>1</td>\n",
       "      <td>89.918750</td>\n",
       "      <td>30.652500</td>\n",
       "      <td>6.741458</td>\n",
       "      <td>45.112500</td>\n",
       "      <td>4008.812500</td>\n",
       "      <td>12.338229</td>\n",
       "      <td>59.335417</td>\n",
       "      <td>4.942917</td>\n",
       "      <td>1992.291667</td>\n",
       "    </tr>\n",
       "  </tbody>\n",
       "</table>\n",
       "</div>"
      ],
      "text/plain": [
       "   Cluster  child_mort    exports    health    imports        income  \\\n",
       "0        0   17.436975  45.326714  6.845630  47.607276  22443.193277   \n",
       "1        1   89.918750  30.652500  6.741458  45.112500   4008.812500   \n",
       "\n",
       "   inflation  life_expec  total_fer          gdpp  \n",
       "0   5.943958   75.081513   2.143277  17389.781513  \n",
       "1  12.338229   59.335417   4.942917   1992.291667  "
      ]
     },
     "execution_count": 61,
     "metadata": {},
     "output_type": "execute_result"
    }
   ],
   "source": [
    "count_new.groupby('Cluster')[['child_mort', 'exports', 'health', 'imports', 'income', 'inflation',\n",
    "       'life_expec', 'total_fer', 'gdpp']].mean().reset_index()"
   ]
  },
  {
   "cell_type": "code",
   "execution_count": null,
   "metadata": {},
   "outputs": [],
   "source": []
  }
 ],
 "metadata": {
  "kernelspec": {
   "display_name": "Python 3",
   "language": "python",
   "name": "python3"
  },
  "language_info": {
   "codemirror_mode": {
    "name": "ipython",
    "version": 3
   },
   "file_extension": ".py",
   "mimetype": "text/x-python",
   "name": "python",
   "nbconvert_exporter": "python",
   "pygments_lexer": "ipython3",
   "version": "3.7.4"
  }
 },
 "nbformat": 4,
 "nbformat_minor": 2
}
