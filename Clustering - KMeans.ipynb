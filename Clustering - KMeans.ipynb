{
 "cells": [
  {
   "cell_type": "markdown",
   "metadata": {},
   "source": [
    "### Assumptions:\n",
    "    Clusters are of spherical shape\n",
    "    Clusters are of similar size\n",
    "    \n",
    "### Advantages:\n",
    "    Simple & Fast(than Hierarchical if 'K' is small)\n",
    "    Ideal or medium to large datasets\n",
    "    Produces tight clusters than Hierarchical as the objective is to minimize the within cluster variation\n",
    "\n",
    "### Disadvantages:\n",
    "    Choosing 'K' value is difficult\n",
    "    Order of observations has an impact on the results\n",
    "    Builds spherical clusters\n",
    "    Unscaled and scaled data will give different results\n"
   ]
  },
  {
   "cell_type": "code",
   "execution_count": 33,
   "metadata": {},
   "outputs": [],
   "source": [
    "import pandas as pd \n",
    "import numpy as np \n",
    "import matplotlib.pyplot as plt \n",
    "from sklearn.cluster import AgglomerativeClustering \n",
    "from sklearn.preprocessing import StandardScaler, normalize\n",
    "from sklearn.metrics import silhouette_score \n",
    "import scipy.cluster.hierarchy as shc\n",
    "from sklearn.cluster import KMeans"
   ]
  },
  {
   "cell_type": "code",
   "execution_count": 34,
   "metadata": {},
   "outputs": [
    {
     "data": {
      "text/html": [
       "<div>\n",
       "<style scoped>\n",
       "    .dataframe tbody tr th:only-of-type {\n",
       "        vertical-align: middle;\n",
       "    }\n",
       "\n",
       "    .dataframe tbody tr th {\n",
       "        vertical-align: top;\n",
       "    }\n",
       "\n",
       "    .dataframe thead th {\n",
       "        text-align: right;\n",
       "    }\n",
       "</style>\n",
       "<table border=\"1\" class=\"dataframe\">\n",
       "  <thead>\n",
       "    <tr style=\"text-align: right;\">\n",
       "      <th></th>\n",
       "      <th>HP</th>\n",
       "      <th>MPG</th>\n",
       "      <th>VOL</th>\n",
       "      <th>SP</th>\n",
       "      <th>WT</th>\n",
       "    </tr>\n",
       "  </thead>\n",
       "  <tbody>\n",
       "    <tr>\n",
       "      <th>0</th>\n",
       "      <td>49</td>\n",
       "      <td>53.700681</td>\n",
       "      <td>89</td>\n",
       "      <td>104.185353</td>\n",
       "      <td>28.762059</td>\n",
       "    </tr>\n",
       "    <tr>\n",
       "      <th>1</th>\n",
       "      <td>55</td>\n",
       "      <td>50.013401</td>\n",
       "      <td>92</td>\n",
       "      <td>105.461264</td>\n",
       "      <td>30.466833</td>\n",
       "    </tr>\n",
       "    <tr>\n",
       "      <th>2</th>\n",
       "      <td>55</td>\n",
       "      <td>50.013401</td>\n",
       "      <td>92</td>\n",
       "      <td>105.461264</td>\n",
       "      <td>30.193597</td>\n",
       "    </tr>\n",
       "    <tr>\n",
       "      <th>3</th>\n",
       "      <td>70</td>\n",
       "      <td>45.696322</td>\n",
       "      <td>92</td>\n",
       "      <td>113.461264</td>\n",
       "      <td>30.632114</td>\n",
       "    </tr>\n",
       "    <tr>\n",
       "      <th>4</th>\n",
       "      <td>53</td>\n",
       "      <td>50.504232</td>\n",
       "      <td>92</td>\n",
       "      <td>104.461264</td>\n",
       "      <td>29.889149</td>\n",
       "    </tr>\n",
       "  </tbody>\n",
       "</table>\n",
       "</div>"
      ],
      "text/plain": [
       "   HP        MPG  VOL          SP         WT\n",
       "0  49  53.700681   89  104.185353  28.762059\n",
       "1  55  50.013401   92  105.461264  30.466833\n",
       "2  55  50.013401   92  105.461264  30.193597\n",
       "3  70  45.696322   92  113.461264  30.632114\n",
       "4  53  50.504232   92  104.461264  29.889149"
      ]
     },
     "execution_count": 34,
     "metadata": {},
     "output_type": "execute_result"
    }
   ],
   "source": [
    "df = pd.read_csv('cars.csv')\n",
    "df.head()"
   ]
  },
  {
   "cell_type": "code",
   "execution_count": 35,
   "metadata": {},
   "outputs": [],
   "source": [
    "scaler = StandardScaler() \n",
    "df_scaled = scaler.fit_transform(df)\n",
    "df_normalized = normalize(df_scaled)"
   ]
  },
  {
   "cell_type": "code",
   "execution_count": 36,
   "metadata": {},
   "outputs": [
    {
     "data": {
      "text/html": [
       "<div>\n",
       "<style scoped>\n",
       "    .dataframe tbody tr th:only-of-type {\n",
       "        vertical-align: middle;\n",
       "    }\n",
       "\n",
       "    .dataframe tbody tr th {\n",
       "        vertical-align: top;\n",
       "    }\n",
       "\n",
       "    .dataframe thead th {\n",
       "        text-align: right;\n",
       "    }\n",
       "</style>\n",
       "<table border=\"1\" class=\"dataframe\">\n",
       "  <thead>\n",
       "    <tr style=\"text-align: right;\">\n",
       "      <th></th>\n",
       "      <th>0</th>\n",
       "      <th>1</th>\n",
       "      <th>2</th>\n",
       "      <th>3</th>\n",
       "      <th>4</th>\n",
       "    </tr>\n",
       "  </thead>\n",
       "  <tbody>\n",
       "    <tr>\n",
       "      <th>0</th>\n",
       "      <td>-0.428666</td>\n",
       "      <td>0.754916</td>\n",
       "      <td>-0.156574</td>\n",
       "      <td>-0.437588</td>\n",
       "      <td>-0.174210</td>\n",
       "    </tr>\n",
       "    <tr>\n",
       "      <th>1</th>\n",
       "      <td>-0.464003</td>\n",
       "      <td>0.724331</td>\n",
       "      <td>-0.128693</td>\n",
       "      <td>-0.480987</td>\n",
       "      <td>-0.110163</td>\n",
       "    </tr>\n",
       "    <tr>\n",
       "      <th>2</th>\n",
       "      <td>-0.463159</td>\n",
       "      <td>0.723014</td>\n",
       "      <td>-0.128459</td>\n",
       "      <td>-0.480112</td>\n",
       "      <td>-0.125404</td>\n",
       "    </tr>\n",
       "    <tr>\n",
       "      <th>3</th>\n",
       "      <td>-0.506921</td>\n",
       "      <td>0.753036</td>\n",
       "      <td>-0.185025</td>\n",
       "      <td>-0.347461</td>\n",
       "      <td>-0.144929</td>\n",
       "    </tr>\n",
       "    <tr>\n",
       "      <th>4</th>\n",
       "      <td>-0.459611</td>\n",
       "      <td>0.717104</td>\n",
       "      <td>-0.123520</td>\n",
       "      <td>-0.490366</td>\n",
       "      <td>-0.137127</td>\n",
       "    </tr>\n",
       "  </tbody>\n",
       "</table>\n",
       "</div>"
      ],
      "text/plain": [
       "          0         1         2         3         4\n",
       "0 -0.428666  0.754916 -0.156574 -0.437588 -0.174210\n",
       "1 -0.464003  0.724331 -0.128693 -0.480987 -0.110163\n",
       "2 -0.463159  0.723014 -0.128459 -0.480112 -0.125404\n",
       "3 -0.506921  0.753036 -0.185025 -0.347461 -0.144929\n",
       "4 -0.459611  0.717104 -0.123520 -0.490366 -0.137127"
      ]
     },
     "execution_count": 36,
     "metadata": {},
     "output_type": "execute_result"
    }
   ],
   "source": [
    "df_normalized = pd.DataFrame(df_normalized)\n",
    "df_normalized.head()"
   ]
  },
  {
   "cell_type": "code",
   "execution_count": 37,
   "metadata": {},
   "outputs": [
    {
     "data": {
      "text/html": [
       "<div>\n",
       "<style scoped>\n",
       "    .dataframe tbody tr th:only-of-type {\n",
       "        vertical-align: middle;\n",
       "    }\n",
       "\n",
       "    .dataframe tbody tr th {\n",
       "        vertical-align: top;\n",
       "    }\n",
       "\n",
       "    .dataframe thead th {\n",
       "        text-align: right;\n",
       "    }\n",
       "</style>\n",
       "<table border=\"1\" class=\"dataframe\">\n",
       "  <thead>\n",
       "    <tr style=\"text-align: right;\">\n",
       "      <th></th>\n",
       "      <th>HP</th>\n",
       "      <th>MPG</th>\n",
       "      <th>VOL</th>\n",
       "      <th>SP</th>\n",
       "      <th>WT</th>\n",
       "    </tr>\n",
       "  </thead>\n",
       "  <tbody>\n",
       "    <tr>\n",
       "      <th>0</th>\n",
       "      <td>-0.428666</td>\n",
       "      <td>0.754916</td>\n",
       "      <td>-0.156574</td>\n",
       "      <td>-0.437588</td>\n",
       "      <td>-0.174210</td>\n",
       "    </tr>\n",
       "    <tr>\n",
       "      <th>1</th>\n",
       "      <td>-0.464003</td>\n",
       "      <td>0.724331</td>\n",
       "      <td>-0.128693</td>\n",
       "      <td>-0.480987</td>\n",
       "      <td>-0.110163</td>\n",
       "    </tr>\n",
       "    <tr>\n",
       "      <th>2</th>\n",
       "      <td>-0.463159</td>\n",
       "      <td>0.723014</td>\n",
       "      <td>-0.128459</td>\n",
       "      <td>-0.480112</td>\n",
       "      <td>-0.125404</td>\n",
       "    </tr>\n",
       "    <tr>\n",
       "      <th>3</th>\n",
       "      <td>-0.506921</td>\n",
       "      <td>0.753036</td>\n",
       "      <td>-0.185025</td>\n",
       "      <td>-0.347461</td>\n",
       "      <td>-0.144929</td>\n",
       "    </tr>\n",
       "    <tr>\n",
       "      <th>4</th>\n",
       "      <td>-0.459611</td>\n",
       "      <td>0.717104</td>\n",
       "      <td>-0.123520</td>\n",
       "      <td>-0.490366</td>\n",
       "      <td>-0.137127</td>\n",
       "    </tr>\n",
       "  </tbody>\n",
       "</table>\n",
       "</div>"
      ],
      "text/plain": [
       "         HP       MPG       VOL        SP        WT\n",
       "0 -0.428666  0.754916 -0.156574 -0.437588 -0.174210\n",
       "1 -0.464003  0.724331 -0.128693 -0.480987 -0.110163\n",
       "2 -0.463159  0.723014 -0.128459 -0.480112 -0.125404\n",
       "3 -0.506921  0.753036 -0.185025 -0.347461 -0.144929\n",
       "4 -0.459611  0.717104 -0.123520 -0.490366 -0.137127"
      ]
     },
     "execution_count": 37,
     "metadata": {},
     "output_type": "execute_result"
    }
   ],
   "source": [
    "df_normalized.columns = df.columns\n",
    "df_normalized.head()"
   ]
  },
  {
   "cell_type": "code",
   "execution_count": 38,
   "metadata": {},
   "outputs": [
    {
     "data": {
      "image/png": "[encoded data removed]",
      "text/plain": [
       "<Figure size 432x288 with 1 Axes>"
      ]
     },
     "metadata": {
      "needs_background": "light"
     },
     "output_type": "display_data"
    }
   ],
   "source": [
    "wcss = []\n",
    "for i in range(1, 11):\n",
    "#     kmeans = KMeans(n_clusters=i, init='k-means++', max_iter=300, n_init=10, random_state=0)\n",
    "    kmeans = KMeans(n_clusters=i)\n",
    "    kmeans.fit(df_normalized)\n",
    "    wcss.append(kmeans.inertia_)\n",
    "plt.plot(range(1, 11), wcss)\n",
    "plt.title('Elbow Method')\n",
    "plt.xlabel('Number of clusters')\n",
    "plt.ylabel('WCSS')\n",
    "plt.show()"
   ]
  },
  {
   "cell_type": "code",
   "execution_count": 39,
   "metadata": {},
   "outputs": [],
   "source": [
    "kmeans_2 = KMeans(n_clusters=2)\n",
    "kmeans_3 = KMeans(n_clusters=3)\n",
    "kmeans_4 = KMeans(n_clusters=4)\n",
    "kmeans_5 = KMeans(n_clusters=5)\n",
    "kmeans_6 = KMeans(n_clusters=6)\n",
    "kmeans_7 = KMeans(n_clusters=7)\n",
    "kmeans_8 = KMeans(n_clusters=8)\n",
    "kmeans_9 = KMeans(n_clusters=9)\n",
    "kmeans_10 = KMeans(n_clusters=10)"
   ]
  },
  {
   "cell_type": "code",
   "execution_count": 40,
   "metadata": {},
   "outputs": [
    {
     "data": {
      "text/plain": [
       "array([1, 1, 1, 1, 1, 1, 1, 1, 1, 1, 1, 1, 1, 1, 1, 1, 1, 1, 1, 1, 1, 1,\n",
       "       1, 1, 1, 1, 0, 1, 1, 0, 1, 1, 1, 0, 1, 1, 1, 1, 1, 0, 0, 1, 1, 1,\n",
       "       1, 1, 0, 1, 0, 0, 0, 0, 0, 0, 0, 0, 1, 0, 1, 0, 0, 0, 0, 0, 0, 1,\n",
       "       0, 0, 0, 0, 0, 0, 0, 0, 0, 0, 0, 0, 0, 0, 0])"
      ]
     },
     "execution_count": 40,
     "metadata": {},
     "output_type": "execute_result"
    }
   ],
   "source": [
    "Cluster = kmeans_2.fit_predict(df_normalized)\n",
    "Cluster"
   ]
  },
  {
   "cell_type": "code",
   "execution_count": 41,
   "metadata": {},
   "outputs": [],
   "source": [
    "df_normalized_array = df_normalized.values"
   ]
  },
  {
   "cell_type": "code",
   "execution_count": null,
   "metadata": {},
   "outputs": [],
   "source": [
    "kmeans = KMeans(n_clusters=4, init='k-means++', max_iter=300, n_init=10, random_state=0)\n",
    "pred_y = kmeans.fit_predict(X)\n",
    "plt.scatter(X[:,0], X[:,1])\n",
    "plt.scatter(kmeans.cluster_centers_[:, 0], kmeans.cluster_centers_[:, 1], s=300, c='red')\n",
    "plt.show()"
   ]
  },
  {
   "cell_type": "code",
   "execution_count": 42,
   "metadata": {},
   "outputs": [
    {
     "data": {
      "image/png": "[encoded data removed]",
      "text/plain": [
       "<Figure size 432x288 with 1 Axes>"
      ]
     },
     "metadata": {
      "needs_background": "light"
     },
     "output_type": "display_data"
    }
   ],
   "source": [
    "plt.scatter(df_normalized_array[Cluster==0, 0], df_normalized_array[Cluster==0, 1], s=50, marker='o', color='red')\n",
    "plt.scatter(df_normalized_array[Cluster==1, 0], df_normalized_array[Cluster==1, 1], s=50, marker='o', color='blue')\n",
    "plt.scatter(df_normalized_array[Cluster==2, 0], df_normalized_array[Cluster==2, 1], s=50, marker='o', color='green')\n",
    "plt.scatter(df_normalized_array[Cluster==3, 0], df_normalized_array[Cluster==3, 1], s=50, marker='o', color='purple')\n",
    "plt.scatter(df_normalized_array[Cluster==4, 0], df_normalized_array[Cluster==4, 1], s=50, marker='o', color='orange')\n",
    "plt.scatter(df_normalized_array[Cluster==5, 0], df_normalized_array[Cluster==5, 1], s=50, marker='o', color='yellow')\n",
    "plt.show()"
   ]
  },
  {
   "cell_type": "code",
   "execution_count": 43,
   "metadata": {},
   "outputs": [],
   "source": [
    "df_normalized['Cluster'] = Cluster"
   ]
  },
  {
   "cell_type": "code",
   "execution_count": 44,
   "metadata": {},
   "outputs": [
    {
     "data": {
      "text/plain": [
       "array([[-0.46094075,  0.4272187 , -0.18531009, -0.41391471, -0.1889273 ],\n",
       "       [ 0.18385743, -0.41618186,  0.31672455,  0.18390137,  0.31947431]])"
      ]
     },
     "execution_count": 44,
     "metadata": {},
     "output_type": "execute_result"
    }
   ],
   "source": [
    "cluster_centroids = kmeans_2.fit(df_normalized[['HP', 'MPG', 'VOL', 'SP', 'WT']]).cluster_centers_\n",
    "cluster_centroids"
   ]
  },
  {
   "cell_type": "code",
   "execution_count": 45,
   "metadata": {},
   "outputs": [
    {
     "data": {
      "text/plain": [
       "array([-0.27708333,  0.01103684,  0.13141447, -0.23001334,  0.130547  ])"
      ]
     },
     "execution_count": 45,
     "metadata": {},
     "output_type": "execute_result"
    }
   ],
   "source": [
    "global_centroid = cluster_centroids.sum(0)\n",
    "global_centroid"
   ]
  },
  {
   "cell_type": "code",
   "execution_count": 46,
   "metadata": {},
   "outputs": [
    {
     "name": "stdout",
     "output_type": "stream",
     "text": [
      "tot_withinss: 198.00286151280827\n",
      "\n",
      "\n",
      "totss: 79.26181145115548\n",
      "\n",
      "\n",
      "btwss: -118.74105006165279\n"
     ]
    }
   ],
   "source": [
    "from scipy.spatial import distance\n",
    "# distance.euclidean(x[0], centroid[1])\n",
    "withinss = []\n",
    "for i in range(len(df_normalized_array)):\n",
    "    for j in range(len(cluster_centroids)):\n",
    "            if df_normalized['Cluster'][i] == j:\n",
    "                dist = (distance.euclidean(cluster_centroids[j], df_normalized_array[i]))**2\n",
    "                withinss.append(dist)\n",
    "\n",
    "        \n",
    "    \n",
    "tot_withinss = np.asarray(withinss).sum(0)\n",
    "   \n",
    "    \n",
    "totss = []  \n",
    "for i in range(len(df_normalized_array)):\n",
    "    d = (distance.euclidean(global_centroid, df_normalized_array[i]))**2\n",
    "    totss.append(d)\n",
    "\n",
    "totss = np.asarray(totss).sum()\n",
    "\n",
    "btwss = totss - tot_withinss\n",
    "\n",
    "print(\"tot_withinss:\", tot_withinss)\n",
    "print('\\n')\n",
    "print(\"totss:\", totss)\n",
    "print('\\n')\n",
    "print(\"btwss:\", btwss)"
   ]
  },
  {
   "cell_type": "code",
   "execution_count": null,
   "metadata": {},
   "outputs": [],
   "source": [
    "\n",
    "# plt.scatter(df_normalized[:,0], df_normalized[:,1])\n",
    "# plt.scatter(kmeans.cluster_centers_[:, 0], kmeans.cluster_centers_[:, 1], s=300, c='red')\n",
    "# plt.show()"
   ]
  },
  {
   "cell_type": "code",
   "execution_count": 48,
   "metadata": {},
   "outputs": [],
   "source": [
    "df['Cluster'] = Cluster"
   ]
  },
  {
   "cell_type": "code",
   "execution_count": 49,
   "metadata": {},
   "outputs": [
    {
     "data": {
      "text/html": [
       "<div>\n",
       "<style scoped>\n",
       "    .dataframe tbody tr th:only-of-type {\n",
       "        vertical-align: middle;\n",
       "    }\n",
       "\n",
       "    .dataframe tbody tr th {\n",
       "        vertical-align: top;\n",
       "    }\n",
       "\n",
       "    .dataframe thead th {\n",
       "        text-align: right;\n",
       "    }\n",
       "</style>\n",
       "<table border=\"1\" class=\"dataframe\">\n",
       "  <thead>\n",
       "    <tr style=\"text-align: right;\">\n",
       "      <th></th>\n",
       "      <th>Cluster</th>\n",
       "      <th>HP</th>\n",
       "      <th>MPG</th>\n",
       "      <th>VOL</th>\n",
       "      <th>SP</th>\n",
       "      <th>WT</th>\n",
       "    </tr>\n",
       "  </thead>\n",
       "  <tbody>\n",
       "    <tr>\n",
       "      <th>0</th>\n",
       "      <td>0</td>\n",
       "      <td>159.583333</td>\n",
       "      <td>26.563517</td>\n",
       "      <td>110.722222</td>\n",
       "      <td>131.794262</td>\n",
       "      <td>36.433402</td>\n",
       "    </tr>\n",
       "    <tr>\n",
       "      <th>1</th>\n",
       "      <td>1</td>\n",
       "      <td>83.777778</td>\n",
       "      <td>40.708923</td>\n",
       "      <td>89.200000</td>\n",
       "      <td>113.337080</td>\n",
       "      <td>29.195917</td>\n",
       "    </tr>\n",
       "  </tbody>\n",
       "</table>\n",
       "</div>"
      ],
      "text/plain": [
       "   Cluster          HP        MPG         VOL          SP         WT\n",
       "0        0  159.583333  26.563517  110.722222  131.794262  36.433402\n",
       "1        1   83.777778  40.708923   89.200000  113.337080  29.195917"
      ]
     },
     "execution_count": 49,
     "metadata": {},
     "output_type": "execute_result"
    }
   ],
   "source": [
    "df.groupby('Cluster')[['HP', 'MPG', 'VOL', 'SP', 'WT']].mean().reset_index()"
   ]
  },
  {
   "cell_type": "code",
   "execution_count": null,
   "metadata": {},
   "outputs": [],
   "source": []
  }
 ],
 "metadata": {
  "kernelspec": {
   "display_name": "Python 3",
   "language": "python",
   "name": "python3"
  },
  "language_info": {
   "codemirror_mode": {
    "name": "ipython",
    "version": 3
   },
   "file_extension": ".py",
   "mimetype": "text/x-python",
   "name": "python",
   "nbconvert_exporter": "python",
   "pygments_lexer": "ipython3",
   "version": "3.8.5"
  }
 },
 "nbformat": 4,
 "nbformat_minor": 2
}
